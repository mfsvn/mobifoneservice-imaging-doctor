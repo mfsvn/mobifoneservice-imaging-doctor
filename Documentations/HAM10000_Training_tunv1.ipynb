{
 "cells": [
  {
   "cell_type": "code",
   "execution_count": 76,
   "id": "09c0391e",
   "metadata": {
    "pycharm": {
     "name": "#%%\n"
    }
   },
   "outputs": [],
   "source": [
    "import matplotlib.pyplot as plt\n",
    "import numpy as np\n",
    "import pandas as pd\n",
    "import os\n",
    "from glob import glob\n",
    "import seaborn as sns\n",
    "from PIL import Image\n",
    "import keras\n",
    "from sklearn.metrics import confusion_matrix\n",
    "\n",
    "from keras.utils.np_utils import to_categorical\n",
    "from keras.models import Sequential\n",
    "from keras.layers import Dense, Dropout, Flatten, Conv2D, MaxPool2D, BatchNormalization\n",
    "from sklearn.model_selection import train_test_split\n",
    "from scipy import stats\n",
    "from sklearn.preprocessing import LabelEncoder\n",
    "import autokeras as ak\n"
   ]
  },
  {
   "cell_type": "code",
   "execution_count": 77,
   "id": "2c129a5a",
   "metadata": {},
   "outputs": [
    {
     "name": "stdout",
     "output_type": "stream",
     "text": [
      "[name: \"/device:CPU:0\"\n",
      "device_type: \"CPU\"\n",
      "memory_limit: 268435456\n",
      "locality {\n",
      "}\n",
      "incarnation: 10245491865709599350\n",
      "xla_global_id: -1\n",
      "]\n"
     ]
    }
   ],
   "source": [
    "import tensorflow\n",
    "from tensorflow.python.client import device_lib\n",
    "print(device_lib.list_local_devices())"
   ]
  },
  {
   "cell_type": "code",
   "execution_count": 78,
   "id": "ae383008",
   "metadata": {
    "pycharm": {
     "name": "#%%\n"
    }
   },
   "outputs": [],
   "source": [
    "np.random.seed(42)"
   ]
  },
  {
   "cell_type": "code",
   "execution_count": 79,
   "id": "47553017",
   "metadata": {
    "pycharm": {
     "name": "#%%\n"
    }
   },
   "outputs": [],
   "source": [
    "image_dir        = \"D:\\\\Dataset\\\\HAM10000_Images_All\"\n",
    "metadata_csv     = \"D:\\\\Dataset\\\\HAM10000_MetaData_CSV\\\\HAM10000_metadata.csv\"\n",
    "path_splitter    = \"\\\\\"\n",
    "images_type      = \".jpg\"\n",
    "\n",
    "re_organized_dir = \"D:\\\\Dataset\\\\re_organized\""
   ]
  },
  {
   "cell_type": "code",
   "execution_count": 80,
   "id": "155bf734",
   "metadata": {
    "pycharm": {
     "name": "#%%\n"
    }
   },
   "outputs": [],
   "source": [
    "skin_df = pd.read_csv(metadata_csv)"
   ]
  },
  {
   "cell_type": "code",
   "execution_count": 81,
   "id": "f8d9bcb8",
   "metadata": {
    "pycharm": {
     "name": "#%%\n"
    },
    "scrolled": true
   },
   "outputs": [
    {
     "data": {
      "text/html": [
       "<div>\n",
       "<style scoped>\n",
       "    .dataframe tbody tr th:only-of-type {\n",
       "        vertical-align: middle;\n",
       "    }\n",
       "\n",
       "    .dataframe tbody tr th {\n",
       "        vertical-align: top;\n",
       "    }\n",
       "\n",
       "    .dataframe thead th {\n",
       "        text-align: right;\n",
       "    }\n",
       "</style>\n",
       "<table border=\"1\" class=\"dataframe\">\n",
       "  <thead>\n",
       "    <tr style=\"text-align: right;\">\n",
       "      <th></th>\n",
       "      <th>lesion_id</th>\n",
       "      <th>image_id</th>\n",
       "      <th>dx</th>\n",
       "      <th>dx_type</th>\n",
       "      <th>age</th>\n",
       "      <th>sex</th>\n",
       "      <th>localization</th>\n",
       "      <th>dataset</th>\n",
       "    </tr>\n",
       "  </thead>\n",
       "  <tbody>\n",
       "    <tr>\n",
       "      <th>0</th>\n",
       "      <td>HAM_0000118</td>\n",
       "      <td>ISIC_0027419</td>\n",
       "      <td>bkl</td>\n",
       "      <td>histo</td>\n",
       "      <td>80.0</td>\n",
       "      <td>male</td>\n",
       "      <td>scalp</td>\n",
       "      <td>vidir_modern</td>\n",
       "    </tr>\n",
       "    <tr>\n",
       "      <th>1</th>\n",
       "      <td>HAM_0000118</td>\n",
       "      <td>ISIC_0025030</td>\n",
       "      <td>bkl</td>\n",
       "      <td>histo</td>\n",
       "      <td>80.0</td>\n",
       "      <td>male</td>\n",
       "      <td>scalp</td>\n",
       "      <td>vidir_modern</td>\n",
       "    </tr>\n",
       "    <tr>\n",
       "      <th>2</th>\n",
       "      <td>HAM_0002730</td>\n",
       "      <td>ISIC_0026769</td>\n",
       "      <td>bkl</td>\n",
       "      <td>histo</td>\n",
       "      <td>80.0</td>\n",
       "      <td>male</td>\n",
       "      <td>scalp</td>\n",
       "      <td>vidir_modern</td>\n",
       "    </tr>\n",
       "    <tr>\n",
       "      <th>3</th>\n",
       "      <td>HAM_0002730</td>\n",
       "      <td>ISIC_0025661</td>\n",
       "      <td>bkl</td>\n",
       "      <td>histo</td>\n",
       "      <td>80.0</td>\n",
       "      <td>male</td>\n",
       "      <td>scalp</td>\n",
       "      <td>vidir_modern</td>\n",
       "    </tr>\n",
       "    <tr>\n",
       "      <th>4</th>\n",
       "      <td>HAM_0001466</td>\n",
       "      <td>ISIC_0031633</td>\n",
       "      <td>bkl</td>\n",
       "      <td>histo</td>\n",
       "      <td>75.0</td>\n",
       "      <td>male</td>\n",
       "      <td>ear</td>\n",
       "      <td>vidir_modern</td>\n",
       "    </tr>\n",
       "  </tbody>\n",
       "</table>\n",
       "</div>"
      ],
      "text/plain": [
       "     lesion_id      image_id   dx dx_type   age   sex localization  \\\n",
       "0  HAM_0000118  ISIC_0027419  bkl   histo  80.0  male        scalp   \n",
       "1  HAM_0000118  ISIC_0025030  bkl   histo  80.0  male        scalp   \n",
       "2  HAM_0002730  ISIC_0026769  bkl   histo  80.0  male        scalp   \n",
       "3  HAM_0002730  ISIC_0025661  bkl   histo  80.0  male        scalp   \n",
       "4  HAM_0001466  ISIC_0031633  bkl   histo  75.0  male          ear   \n",
       "\n",
       "        dataset  \n",
       "0  vidir_modern  \n",
       "1  vidir_modern  \n",
       "2  vidir_modern  \n",
       "3  vidir_modern  \n",
       "4  vidir_modern  "
      ]
     },
     "execution_count": 81,
     "metadata": {},
     "output_type": "execute_result"
    }
   ],
   "source": [
    "skin_df.head()"
   ]
  },
  {
   "cell_type": "code",
   "execution_count": 82,
   "id": "a5f1f930",
   "metadata": {
    "pycharm": {
     "name": "#%%\n"
    }
   },
   "outputs": [
    {
     "data": {
      "text/plain": [
       "lesion_id       10015\n",
       "image_id        10015\n",
       "dx              10015\n",
       "dx_type         10015\n",
       "age              9958\n",
       "sex             10015\n",
       "localization    10015\n",
       "dataset         10015\n",
       "dtype: int64"
      ]
     },
     "execution_count": 82,
     "metadata": {},
     "output_type": "execute_result"
    }
   ],
   "source": [
    "skin_df.count()"
   ]
  },
  {
   "cell_type": "code",
   "execution_count": 83,
   "id": "6a9f93d8",
   "metadata": {
    "pycharm": {
     "name": "#%%\n"
    }
   },
   "outputs": [
    {
     "data": {
      "text/plain": [
       "nv       6705\n",
       "mel      1113\n",
       "bkl      1099\n",
       "bcc       514\n",
       "akiec     327\n",
       "vasc      142\n",
       "df        115\n",
       "Name: dx, dtype: int64"
      ]
     },
     "execution_count": 83,
     "metadata": {},
     "output_type": "execute_result"
    }
   ],
   "source": [
    "skin_df['dx'].value_counts()"
   ]
  },
  {
   "cell_type": "code",
   "execution_count": 84,
   "id": "3981224f",
   "metadata": {
    "pycharm": {
     "name": "#%%\n"
    }
   },
   "outputs": [],
   "source": [
    "SIZE = 32"
   ]
  },
  {
   "cell_type": "code",
   "execution_count": 85,
   "id": "08901581",
   "metadata": {
    "pycharm": {
     "name": "#%%\n"
    }
   },
   "outputs": [],
   "source": [
    "le = LabelEncoder()\n",
    "le.fit(skin_df['dx'])\n",
    "skin_df['label'] = le.transform(skin_df['dx'])"
   ]
  },
  {
   "cell_type": "code",
   "execution_count": 86,
   "id": "7aa30493",
   "metadata": {
    "pycharm": {
     "name": "#%%\n"
    }
   },
   "outputs": [
    {
     "data": {
      "text/html": [
       "<div>\n",
       "<style scoped>\n",
       "    .dataframe tbody tr th:only-of-type {\n",
       "        vertical-align: middle;\n",
       "    }\n",
       "\n",
       "    .dataframe tbody tr th {\n",
       "        vertical-align: top;\n",
       "    }\n",
       "\n",
       "    .dataframe thead th {\n",
       "        text-align: right;\n",
       "    }\n",
       "</style>\n",
       "<table border=\"1\" class=\"dataframe\">\n",
       "  <thead>\n",
       "    <tr style=\"text-align: right;\">\n",
       "      <th></th>\n",
       "      <th>lesion_id</th>\n",
       "      <th>image_id</th>\n",
       "      <th>dx</th>\n",
       "      <th>dx_type</th>\n",
       "      <th>age</th>\n",
       "      <th>sex</th>\n",
       "      <th>localization</th>\n",
       "      <th>dataset</th>\n",
       "      <th>label</th>\n",
       "    </tr>\n",
       "  </thead>\n",
       "  <tbody>\n",
       "    <tr>\n",
       "      <th>0</th>\n",
       "      <td>HAM_0000118</td>\n",
       "      <td>ISIC_0027419</td>\n",
       "      <td>bkl</td>\n",
       "      <td>histo</td>\n",
       "      <td>80.0</td>\n",
       "      <td>male</td>\n",
       "      <td>scalp</td>\n",
       "      <td>vidir_modern</td>\n",
       "      <td>2</td>\n",
       "    </tr>\n",
       "    <tr>\n",
       "      <th>1</th>\n",
       "      <td>HAM_0000118</td>\n",
       "      <td>ISIC_0025030</td>\n",
       "      <td>bkl</td>\n",
       "      <td>histo</td>\n",
       "      <td>80.0</td>\n",
       "      <td>male</td>\n",
       "      <td>scalp</td>\n",
       "      <td>vidir_modern</td>\n",
       "      <td>2</td>\n",
       "    </tr>\n",
       "    <tr>\n",
       "      <th>2</th>\n",
       "      <td>HAM_0002730</td>\n",
       "      <td>ISIC_0026769</td>\n",
       "      <td>bkl</td>\n",
       "      <td>histo</td>\n",
       "      <td>80.0</td>\n",
       "      <td>male</td>\n",
       "      <td>scalp</td>\n",
       "      <td>vidir_modern</td>\n",
       "      <td>2</td>\n",
       "    </tr>\n",
       "    <tr>\n",
       "      <th>3</th>\n",
       "      <td>HAM_0002730</td>\n",
       "      <td>ISIC_0025661</td>\n",
       "      <td>bkl</td>\n",
       "      <td>histo</td>\n",
       "      <td>80.0</td>\n",
       "      <td>male</td>\n",
       "      <td>scalp</td>\n",
       "      <td>vidir_modern</td>\n",
       "      <td>2</td>\n",
       "    </tr>\n",
       "    <tr>\n",
       "      <th>4</th>\n",
       "      <td>HAM_0001466</td>\n",
       "      <td>ISIC_0031633</td>\n",
       "      <td>bkl</td>\n",
       "      <td>histo</td>\n",
       "      <td>75.0</td>\n",
       "      <td>male</td>\n",
       "      <td>ear</td>\n",
       "      <td>vidir_modern</td>\n",
       "      <td>2</td>\n",
       "    </tr>\n",
       "  </tbody>\n",
       "</table>\n",
       "</div>"
      ],
      "text/plain": [
       "     lesion_id      image_id   dx dx_type   age   sex localization  \\\n",
       "0  HAM_0000118  ISIC_0027419  bkl   histo  80.0  male        scalp   \n",
       "1  HAM_0000118  ISIC_0025030  bkl   histo  80.0  male        scalp   \n",
       "2  HAM_0002730  ISIC_0026769  bkl   histo  80.0  male        scalp   \n",
       "3  HAM_0002730  ISIC_0025661  bkl   histo  80.0  male        scalp   \n",
       "4  HAM_0001466  ISIC_0031633  bkl   histo  75.0  male          ear   \n",
       "\n",
       "        dataset  label  \n",
       "0  vidir_modern      2  \n",
       "1  vidir_modern      2  \n",
       "2  vidir_modern      2  \n",
       "3  vidir_modern      2  \n",
       "4  vidir_modern      2  "
      ]
     },
     "execution_count": 86,
     "metadata": {},
     "output_type": "execute_result"
    }
   ],
   "source": [
    "skin_df.head()"
   ]
  },
  {
   "cell_type": "code",
   "execution_count": 87,
   "id": "3d166044",
   "metadata": {
    "pycharm": {
     "name": "#%%\n"
    }
   },
   "outputs": [
    {
     "data": {
      "text/plain": [
       "<AxesSubplot:>"
      ]
     },
     "execution_count": 87,
     "metadata": {},
     "output_type": "execute_result"
    },
    {
     "data": {
      "image/png": "[encoded data removed]",
      "text/plain": [
       "<Figure size 1080x720 with 1 Axes>"
      ]
     },
     "metadata": {},
     "output_type": "display_data"
    }
   ],
   "source": [
    "fig = plt.figure(figsize=(15, 10))\n",
    "ax1 = fig.add_subplot(221)\n",
    "skin_df['dx'].value_counts().plot(kind='bar', ax=ax1)"
   ]
  },
  {
   "cell_type": "code",
   "execution_count": 88,
   "id": "9ad88467",
   "metadata": {
    "pycharm": {
     "name": "#%%\n"
    }
   },
   "outputs": [
    {
     "data": {
      "text/plain": [
       "nv       6705\n",
       "mel      1113\n",
       "bkl      1099\n",
       "bcc       514\n",
       "akiec     327\n",
       "vasc      142\n",
       "df        115\n",
       "Name: dx, dtype: int64"
      ]
     },
     "execution_count": 88,
     "metadata": {},
     "output_type": "execute_result"
    }
   ],
   "source": [
    "skin_df['dx'].value_counts()"
   ]
  },
  {
   "cell_type": "code",
   "execution_count": 89,
   "id": "53a080bd",
   "metadata": {
    "pycharm": {
     "name": "#%%\n"
    }
   },
   "outputs": [],
   "source": [
    "df_0 = skin_df[skin_df['label'] == 0]\n",
    "df_1 = skin_df[skin_df['label'] == 1]\n",
    "df_2 = skin_df[skin_df['label'] == 2]\n",
    "df_3 = skin_df[skin_df['label'] == 3]\n",
    "df_4 = skin_df[skin_df['label'] == 4]\n",
    "df_5 = skin_df[skin_df['label'] == 5]\n",
    "df_6 = skin_df[skin_df['label'] == 6]"
   ]
  },
  {
   "cell_type": "code",
   "execution_count": 90,
   "id": "3789d6a6",
   "metadata": {
    "pycharm": {
     "name": "#%%\n"
    }
   },
   "outputs": [
    {
     "name": "stdout",
     "output_type": "stream",
     "text": [
      "<class 'pandas.core.frame.DataFrame'>\n",
      "Int64Index: 142 entries, 2320 to 2461\n",
      "Data columns (total 9 columns):\n",
      " #   Column        Non-Null Count  Dtype  \n",
      "---  ------        --------------  -----  \n",
      " 0   lesion_id     142 non-null    object \n",
      " 1   image_id      142 non-null    object \n",
      " 2   dx            142 non-null    object \n",
      " 3   dx_type       142 non-null    object \n",
      " 4   age           142 non-null    float64\n",
      " 5   sex           142 non-null    object \n",
      " 6   localization  142 non-null    object \n",
      " 7   dataset       142 non-null    object \n",
      " 8   label         142 non-null    int32  \n",
      "dtypes: float64(1), int32(1), object(7)\n",
      "memory usage: 10.5+ KB\n"
     ]
    }
   ],
   "source": [
    "df_6.info()"
   ]
  },
  {
   "cell_type": "code",
   "execution_count": 91,
   "id": "2aaebfb0",
   "metadata": {
    "pycharm": {
     "name": "#%%\n"
    }
   },
   "outputs": [],
   "source": [
    "num_samples = 500"
   ]
  },
  {
   "cell_type": "code",
   "execution_count": 92,
   "id": "a3f95295",
   "metadata": {
    "pycharm": {
     "name": "#%%\n"
    }
   },
   "outputs": [],
   "source": [
    "from sklearn.utils import resample"
   ]
  },
  {
   "cell_type": "code",
   "execution_count": 93,
   "id": "780cc1bc",
   "metadata": {
    "pycharm": {
     "name": "#%%\n"
    }
   },
   "outputs": [],
   "source": [
    "df_0_500 = resample(df_0, replace=True, n_samples=num_samples, random_state=42)\n",
    "df_1_500 = resample(df_1, replace=True, n_samples=num_samples, random_state=42)\n",
    "df_2_500 = resample(df_2, replace=True, n_samples=num_samples, random_state=42)\n",
    "df_3_500 = resample(df_3, replace=True, n_samples=num_samples, random_state=42)\n",
    "df_4_500 = resample(df_4, replace=True, n_samples=num_samples, random_state=42)\n",
    "df_5_500 = resample(df_5, replace=True, n_samples=num_samples, random_state=42)\n",
    "df_6_500 = resample(df_6, replace=True, n_samples=num_samples, random_state=42)"
   ]
  },
  {
   "cell_type": "code",
   "execution_count": 94,
   "id": "7690a969",
   "metadata": {
    "pycharm": {
     "name": "#%%\n"
    }
   },
   "outputs": [
    {
     "data": {
      "text/plain": [
       "lesion_id       500\n",
       "image_id        500\n",
       "dx              500\n",
       "dx_type         500\n",
       "age             500\n",
       "sex             500\n",
       "localization    500\n",
       "dataset         500\n",
       "label           500\n",
       "dtype: int64"
      ]
     },
     "execution_count": 94,
     "metadata": {},
     "output_type": "execute_result"
    }
   ],
   "source": [
    "df_0_500.count()"
   ]
  },
  {
   "cell_type": "code",
   "execution_count": 95,
   "id": "fef01974",
   "metadata": {
    "pycharm": {
     "name": "#%%\n"
    }
   },
   "outputs": [],
   "source": [
    "skin_df_500 = pd.concat([df_0_500, \n",
    "                       df_1_500,\n",
    "                       df_2_500,\n",
    "                       df_3_500,\n",
    "                       df_4_500,\n",
    "                       df_5_500,\n",
    "                       df_6_500])"
   ]
  },
  {
   "cell_type": "code",
   "execution_count": 96,
   "id": "55d105f3",
   "metadata": {
    "pycharm": {
     "name": "#%%\n"
    }
   },
   "outputs": [
    {
     "name": "stdout",
     "output_type": "stream",
     "text": [
      "<class 'pandas.core.frame.DataFrame'>\n",
      "Int64Index: 3500 entries, 9789 to 2363\n",
      "Data columns (total 9 columns):\n",
      " #   Column        Non-Null Count  Dtype  \n",
      "---  ------        --------------  -----  \n",
      " 0   lesion_id     3500 non-null   object \n",
      " 1   image_id      3500 non-null   object \n",
      " 2   dx            3500 non-null   object \n",
      " 3   dx_type       3500 non-null   object \n",
      " 4   age           3488 non-null   float64\n",
      " 5   sex           3500 non-null   object \n",
      " 6   localization  3500 non-null   object \n",
      " 7   dataset       3500 non-null   object \n",
      " 8   label         3500 non-null   int32  \n",
      "dtypes: float64(1), int32(1), object(7)\n",
      "memory usage: 259.8+ KB\n"
     ]
    }
   ],
   "source": [
    "skin_df_500.info()"
   ]
  },
  {
   "cell_type": "code",
   "execution_count": 97,
   "id": "40746bae",
   "metadata": {
    "pycharm": {
     "name": "#%%\n"
    }
   },
   "outputs": [
    {
     "data": {
      "text/html": [
       "<div>\n",
       "<style scoped>\n",
       "    .dataframe tbody tr th:only-of-type {\n",
       "        vertical-align: middle;\n",
       "    }\n",
       "\n",
       "    .dataframe tbody tr th {\n",
       "        vertical-align: top;\n",
       "    }\n",
       "\n",
       "    .dataframe thead th {\n",
       "        text-align: right;\n",
       "    }\n",
       "</style>\n",
       "<table border=\"1\" class=\"dataframe\">\n",
       "  <thead>\n",
       "    <tr style=\"text-align: right;\">\n",
       "      <th></th>\n",
       "      <th>lesion_id</th>\n",
       "      <th>image_id</th>\n",
       "      <th>dx</th>\n",
       "      <th>dx_type</th>\n",
       "      <th>age</th>\n",
       "      <th>sex</th>\n",
       "      <th>localization</th>\n",
       "      <th>dataset</th>\n",
       "      <th>label</th>\n",
       "    </tr>\n",
       "  </thead>\n",
       "  <tbody>\n",
       "    <tr>\n",
       "      <th>9789</th>\n",
       "      <td>HAM_0003136</td>\n",
       "      <td>ISIC_0026645</td>\n",
       "      <td>akiec</td>\n",
       "      <td>histo</td>\n",
       "      <td>65.0</td>\n",
       "      <td>male</td>\n",
       "      <td>back</td>\n",
       "      <td>rosendahl</td>\n",
       "      <td>0</td>\n",
       "    </tr>\n",
       "    <tr>\n",
       "      <th>9957</th>\n",
       "      <td>HAM_0006587</td>\n",
       "      <td>ISIC_0025780</td>\n",
       "      <td>akiec</td>\n",
       "      <td>histo</td>\n",
       "      <td>70.0</td>\n",
       "      <td>male</td>\n",
       "      <td>face</td>\n",
       "      <td>rosendahl</td>\n",
       "      <td>0</td>\n",
       "    </tr>\n",
       "    <tr>\n",
       "      <th>9793</th>\n",
       "      <td>HAM_0005505</td>\n",
       "      <td>ISIC_0024450</td>\n",
       "      <td>akiec</td>\n",
       "      <td>histo</td>\n",
       "      <td>50.0</td>\n",
       "      <td>male</td>\n",
       "      <td>upper extremity</td>\n",
       "      <td>rosendahl</td>\n",
       "      <td>0</td>\n",
       "    </tr>\n",
       "    <tr>\n",
       "      <th>9758</th>\n",
       "      <td>HAM_0003455</td>\n",
       "      <td>ISIC_0027896</td>\n",
       "      <td>akiec</td>\n",
       "      <td>histo</td>\n",
       "      <td>75.0</td>\n",
       "      <td>male</td>\n",
       "      <td>hand</td>\n",
       "      <td>rosendahl</td>\n",
       "      <td>0</td>\n",
       "    </tr>\n",
       "    <tr>\n",
       "      <th>9875</th>\n",
       "      <td>HAM_0005459</td>\n",
       "      <td>ISIC_0029268</td>\n",
       "      <td>akiec</td>\n",
       "      <td>histo</td>\n",
       "      <td>85.0</td>\n",
       "      <td>male</td>\n",
       "      <td>upper extremity</td>\n",
       "      <td>rosendahl</td>\n",
       "      <td>0</td>\n",
       "    </tr>\n",
       "  </tbody>\n",
       "</table>\n",
       "</div>"
      ],
      "text/plain": [
       "        lesion_id      image_id     dx dx_type   age   sex     localization  \\\n",
       "9789  HAM_0003136  ISIC_0026645  akiec   histo  65.0  male             back   \n",
       "9957  HAM_0006587  ISIC_0025780  akiec   histo  70.0  male             face   \n",
       "9793  HAM_0005505  ISIC_0024450  akiec   histo  50.0  male  upper extremity   \n",
       "9758  HAM_0003455  ISIC_0027896  akiec   histo  75.0  male             hand   \n",
       "9875  HAM_0005459  ISIC_0029268  akiec   histo  85.0  male  upper extremity   \n",
       "\n",
       "        dataset  label  \n",
       "9789  rosendahl      0  \n",
       "9957  rosendahl      0  \n",
       "9793  rosendahl      0  \n",
       "9758  rosendahl      0  \n",
       "9875  rosendahl      0  "
      ]
     },
     "execution_count": 97,
     "metadata": {},
     "output_type": "execute_result"
    }
   ],
   "source": [
    "skin_df_500.head()"
   ]
  },
  {
   "cell_type": "code",
   "execution_count": 98,
   "id": "6a67c10a",
   "metadata": {
    "pycharm": {
     "name": "#%%\n"
    }
   },
   "outputs": [],
   "source": [
    "\n",
    "skin_df_500['path'] = image_dir + path_splitter + skin_df[\"image_id\"] + images_type"
   ]
  },
  {
   "cell_type": "code",
   "execution_count": 99,
   "id": "18d5f81d",
   "metadata": {
    "pycharm": {
     "name": "#%%\n"
    }
   },
   "outputs": [],
   "source": [
    "skin_df_500['image'] = skin_df_500['path'].map(lambda x: np.asarray(Image.open(x).resize((SIZE, SIZE))))"
   ]
  },
  {
   "cell_type": "code",
   "execution_count": 100,
   "id": "c60aef72",
   "metadata": {
    "pycharm": {
     "name": "#%%\n"
    }
   },
   "outputs": [],
   "source": [
    "X = np.asarray(skin_df_500['image'].tolist())"
   ]
  },
  {
   "cell_type": "code",
   "execution_count": 101,
   "id": "f86c6179",
   "metadata": {
    "pycharm": {
     "name": "#%%\n"
    }
   },
   "outputs": [],
   "source": [
    "X = X/255"
   ]
  },
  {
   "cell_type": "code",
   "execution_count": 102,
   "id": "f3c3fa96",
   "metadata": {
    "pycharm": {
     "name": "#%%\n"
    }
   },
   "outputs": [],
   "source": [
    "Y = skin_df_500['label']"
   ]
  },
  {
   "cell_type": "code",
   "execution_count": 103,
   "id": "105488f8",
   "metadata": {
    "pycharm": {
     "name": "#%%\n"
    }
   },
   "outputs": [],
   "source": [
    "Y_cat = to_categorical(Y, num_classes=7)"
   ]
  },
  {
   "cell_type": "code",
   "execution_count": 104,
   "id": "2f41e3c3",
   "metadata": {
    "pycharm": {
     "name": "#%%\n"
    }
   },
   "outputs": [
    {
     "data": {
      "text/plain": [
       "array([[1., 0., 0., ..., 0., 0., 0.],\n",
       "       [1., 0., 0., ..., 0., 0., 0.],\n",
       "       [1., 0., 0., ..., 0., 0., 0.],\n",
       "       ...,\n",
       "       [0., 0., 0., ..., 0., 0., 1.],\n",
       "       [0., 0., 0., ..., 0., 0., 1.],\n",
       "       [0., 0., 0., ..., 0., 0., 1.]], dtype=float32)"
      ]
     },
     "execution_count": 104,
     "metadata": {},
     "output_type": "execute_result"
    }
   ],
   "source": [
    "Y_cat"
   ]
  },
  {
   "cell_type": "code",
   "execution_count": 105,
   "id": "b5a2ab4d",
   "metadata": {
    "pycharm": {
     "name": "#%%\n"
    }
   },
   "outputs": [],
   "source": [
    "x_train, x_test, y_train, y_test = train_test_split(X, Y_cat, test_size=0.25, random_state=42)"
   ]
  },
  {
   "cell_type": "code",
   "execution_count": 106,
   "id": "807a0464",
   "metadata": {
    "pycharm": {
     "name": "#%%\n"
    }
   },
   "outputs": [],
   "source": [
    "num_classes = 7"
   ]
  },
  {
   "cell_type": "code",
   "execution_count": 107,
   "id": "b99d659c",
   "metadata": {
    "pycharm": {
     "name": "#%%\n"
    }
   },
   "outputs": [
    {
     "name": "stdout",
     "output_type": "stream",
     "text": [
      "Model: \"sequential_2\"\n",
      "_________________________________________________________________\n",
      " Layer (type)                Output Shape              Param #   \n",
      "=================================================================\n",
      " conv2d_6 (Conv2D)           (None, 30, 30, 256)       7168      \n",
      "                                                                 \n",
      " max_pooling2d_6 (MaxPooling  (None, 15, 15, 256)      0         \n",
      " 2D)                                                             \n",
      "                                                                 \n",
      " dropout_6 (Dropout)         (None, 15, 15, 256)       0         \n",
      "                                                                 \n",
      " conv2d_7 (Conv2D)           (None, 13, 13, 128)       295040    \n",
      "                                                                 \n",
      " max_pooling2d_7 (MaxPooling  (None, 6, 6, 128)        0         \n",
      " 2D)                                                             \n",
      "                                                                 \n",
      " dropout_7 (Dropout)         (None, 6, 6, 128)         0         \n",
      "                                                                 \n",
      " conv2d_8 (Conv2D)           (None, 4, 4, 64)          73792     \n",
      "                                                                 \n",
      " max_pooling2d_8 (MaxPooling  (None, 2, 2, 64)         0         \n",
      " 2D)                                                             \n",
      "                                                                 \n",
      " dropout_8 (Dropout)         (None, 2, 2, 64)          0         \n",
      "                                                                 \n",
      " flatten_2 (Flatten)         (None, 256)               0         \n",
      "                                                                 \n",
      " dense_4 (Dense)             (None, 32)                8224      \n",
      "                                                                 \n",
      " dense_5 (Dense)             (None, 7)                 231       \n",
      "                                                                 \n",
      "=================================================================\n",
      "Total params: 384,455\n",
      "Trainable params: 384,455\n",
      "Non-trainable params: 0\n",
      "_________________________________________________________________\n"
     ]
    }
   ],
   "source": [
    "model = Sequential()\n",
    "model.add(Conv2D(256, (3, 3), activation=\"relu\", input_shape=(SIZE, SIZE, 3)))\n",
    "model.add(MaxPool2D(pool_size=(2, 2)))  \n",
    "model.add(Dropout(0.3))\n",
    "\n",
    "model.add(Conv2D(128, (3, 3),activation='relu'))\n",
    "model.add(MaxPool2D(pool_size=(2, 2)))  \n",
    "model.add(Dropout(0.3))\n",
    "\n",
    "model.add(Conv2D(64, (3, 3),activation='relu'))\n",
    "model.add(MaxPool2D(pool_size=(2, 2)))  \n",
    "model.add(Dropout(0.3))\n",
    "model.add(Flatten())\n",
    "\n",
    "model.add(Dense(32))\n",
    "model.add(Dense(7, activation='softmax'))\n",
    "model.summary()\n",
    "\n",
    "model.compile(loss='categorical_crossentropy', optimizer='Adam', metrics=['acc'])\n"
   ]
  },
  {
   "cell_type": "code",
   "execution_count": 108,
   "id": "fbe60853",
   "metadata": {
    "pycharm": {
     "name": "#%%\n"
    }
   },
   "outputs": [
    {
     "name": "stdout",
     "output_type": "stream",
     "text": [
      "Epoch 1/40\n",
      "165/165 - 7s - loss: 1.8795 - acc: 0.2141 - val_loss: 1.9475 - val_acc: 0.2457 - 7s/epoch - 44ms/step\n",
      "Epoch 2/40\n",
      "165/165 - 7s - loss: 1.6579 - acc: 0.3147 - val_loss: 1.5505 - val_acc: 0.3543 - 7s/epoch - 42ms/step\n",
      "Epoch 3/40\n",
      "165/165 - 7s - loss: 1.5039 - acc: 0.3886 - val_loss: 1.4478 - val_acc: 0.4171 - 7s/epoch - 41ms/step\n",
      "Epoch 4/40\n",
      "165/165 - 7s - loss: 1.4337 - acc: 0.4309 - val_loss: 1.5567 - val_acc: 0.3737 - 7s/epoch - 41ms/step\n",
      "Epoch 5/40\n",
      "165/165 - 7s - loss: 1.3808 - acc: 0.4469 - val_loss: 1.3844 - val_acc: 0.4720 - 7s/epoch - 41ms/step\n",
      "Epoch 6/40\n",
      "165/165 - 7s - loss: 1.3303 - acc: 0.4792 - val_loss: 1.3430 - val_acc: 0.4491 - 7s/epoch - 41ms/step\n",
      "Epoch 7/40\n",
      "165/165 - 7s - loss: 1.3023 - acc: 0.4846 - val_loss: 1.2564 - val_acc: 0.5097 - 7s/epoch - 41ms/step\n",
      "Epoch 8/40\n",
      "165/165 - 7s - loss: 1.2585 - acc: 0.5131 - val_loss: 1.2530 - val_acc: 0.4754 - 7s/epoch - 41ms/step\n",
      "Epoch 9/40\n",
      "165/165 - 7s - loss: 1.2567 - acc: 0.5074 - val_loss: 1.2974 - val_acc: 0.4960 - 7s/epoch - 41ms/step\n",
      "Epoch 10/40\n",
      "165/165 - 7s - loss: 1.1945 - acc: 0.5257 - val_loss: 1.2621 - val_acc: 0.4789 - 7s/epoch - 41ms/step\n",
      "Epoch 11/40\n",
      "165/165 - 7s - loss: 1.1839 - acc: 0.5383 - val_loss: 1.2038 - val_acc: 0.5143 - 7s/epoch - 41ms/step\n",
      "Epoch 12/40\n",
      "165/165 - 7s - loss: 1.1597 - acc: 0.5448 - val_loss: 1.1919 - val_acc: 0.5497 - 7s/epoch - 41ms/step\n",
      "Epoch 13/40\n",
      "165/165 - 7s - loss: 1.1543 - acc: 0.5615 - val_loss: 1.1483 - val_acc: 0.5531 - 7s/epoch - 41ms/step\n",
      "Epoch 14/40\n",
      "165/165 - 7s - loss: 1.1363 - acc: 0.5528 - val_loss: 1.1670 - val_acc: 0.5406 - 7s/epoch - 42ms/step\n",
      "Epoch 15/40\n",
      "165/165 - 8s - loss: 1.1264 - acc: 0.5577 - val_loss: 1.0986 - val_acc: 0.5669 - 8s/epoch - 51ms/step\n",
      "Epoch 16/40\n",
      "165/165 - 7s - loss: 1.0815 - acc: 0.5817 - val_loss: 1.2116 - val_acc: 0.4903 - 7s/epoch - 45ms/step\n",
      "Epoch 17/40\n",
      "165/165 - 7s - loss: 1.1339 - acc: 0.5592 - val_loss: 1.0691 - val_acc: 0.6000 - 7s/epoch - 42ms/step\n",
      "Epoch 18/40\n",
      "165/165 - 7s - loss: 1.0407 - acc: 0.5989 - val_loss: 1.1340 - val_acc: 0.5577 - 7s/epoch - 41ms/step\n",
      "Epoch 19/40\n",
      "165/165 - 7s - loss: 1.0336 - acc: 0.5920 - val_loss: 1.0718 - val_acc: 0.6034 - 7s/epoch - 41ms/step\n",
      "Epoch 20/40\n",
      "165/165 - 7s - loss: 1.0017 - acc: 0.6137 - val_loss: 1.1142 - val_acc: 0.5577 - 7s/epoch - 41ms/step\n",
      "Epoch 21/40\n",
      "165/165 - 7s - loss: 1.0717 - acc: 0.5905 - val_loss: 1.0544 - val_acc: 0.5737 - 7s/epoch - 41ms/step\n",
      "Epoch 22/40\n",
      "165/165 - 7s - loss: 0.9714 - acc: 0.6286 - val_loss: 0.9868 - val_acc: 0.6274 - 7s/epoch - 41ms/step\n",
      "Epoch 23/40\n",
      "165/165 - 7s - loss: 0.9670 - acc: 0.6282 - val_loss: 0.9685 - val_acc: 0.6206 - 7s/epoch - 41ms/step\n",
      "Epoch 24/40\n",
      "165/165 - 7s - loss: 0.9579 - acc: 0.6221 - val_loss: 0.9715 - val_acc: 0.6423 - 7s/epoch - 41ms/step\n",
      "Epoch 25/40\n",
      "165/165 - 7s - loss: 0.9564 - acc: 0.6381 - val_loss: 0.9611 - val_acc: 0.6560 - 7s/epoch - 41ms/step\n",
      "Epoch 26/40\n",
      "165/165 - 7s - loss: 0.9336 - acc: 0.6430 - val_loss: 0.9535 - val_acc: 0.6446 - 7s/epoch - 41ms/step\n",
      "Epoch 27/40\n",
      "165/165 - 7s - loss: 0.9032 - acc: 0.6499 - val_loss: 0.9287 - val_acc: 0.6526 - 7s/epoch - 41ms/step\n",
      "Epoch 28/40\n",
      "165/165 - 7s - loss: 0.8969 - acc: 0.6621 - val_loss: 0.9263 - val_acc: 0.6674 - 7s/epoch - 41ms/step\n",
      "Epoch 29/40\n",
      "165/165 - 7s - loss: 0.8780 - acc: 0.6651 - val_loss: 0.9334 - val_acc: 0.6526 - 7s/epoch - 41ms/step\n",
      "Epoch 30/40\n",
      "165/165 - 7s - loss: 0.8705 - acc: 0.6590 - val_loss: 0.9516 - val_acc: 0.6686 - 7s/epoch - 41ms/step\n",
      "Epoch 31/40\n",
      "165/165 - 7s - loss: 0.8503 - acc: 0.6735 - val_loss: 0.8967 - val_acc: 0.6914 - 7s/epoch - 41ms/step\n",
      "Epoch 32/40\n",
      "165/165 - 7s - loss: 0.8501 - acc: 0.6804 - val_loss: 0.9168 - val_acc: 0.6709 - 7s/epoch - 42ms/step\n",
      "Epoch 33/40\n",
      "165/165 - 7s - loss: 0.8587 - acc: 0.6659 - val_loss: 0.9703 - val_acc: 0.6411 - 7s/epoch - 41ms/step\n",
      "Epoch 34/40\n",
      "165/165 - 7s - loss: 0.8139 - acc: 0.6971 - val_loss: 0.8433 - val_acc: 0.6994 - 7s/epoch - 41ms/step\n",
      "Epoch 35/40\n",
      "165/165 - 7s - loss: 0.8021 - acc: 0.6964 - val_loss: 0.8630 - val_acc: 0.6869 - 7s/epoch - 41ms/step\n",
      "Epoch 36/40\n",
      "165/165 - 7s - loss: 0.7869 - acc: 0.6979 - val_loss: 0.8649 - val_acc: 0.7006 - 7s/epoch - 41ms/step\n",
      "Epoch 37/40\n",
      "165/165 - 7s - loss: 0.7700 - acc: 0.7109 - val_loss: 0.8910 - val_acc: 0.6789 - 7s/epoch - 41ms/step\n",
      "Epoch 38/40\n",
      "165/165 - 7s - loss: 0.7541 - acc: 0.7124 - val_loss: 0.8803 - val_acc: 0.6663 - 7s/epoch - 41ms/step\n",
      "Epoch 39/40\n",
      "165/165 - 7s - loss: 0.7613 - acc: 0.7109 - val_loss: 0.8575 - val_acc: 0.6960 - 7s/epoch - 41ms/step\n",
      "Epoch 40/40\n",
      "165/165 - 7s - loss: 0.8245 - acc: 0.6838 - val_loss: 0.8316 - val_acc: 0.7234 - 7s/epoch - 41ms/step\n"
     ]
    }
   ],
   "source": [
    "batch_size = 16 \n",
    "epochs = 40\n",
    "\n",
    "history = model.fit(\n",
    "    x_train, y_train,\n",
    "    epochs=epochs,\n",
    "    batch_size = batch_size,\n",
    "    validation_data=(x_test, y_test),\n",
    "    verbose=2)\n"
   ]
  },
  {
   "cell_type": "code",
   "execution_count": 116,
   "id": "aa500fb9",
   "metadata": {},
   "outputs": [
    {
     "name": "stdout",
     "output_type": "stream",
     "text": [
      "28/28 [==============================] - 0s 17ms/step - loss: 0.8316 - acc: 0.7234\n",
      "Test accuracy: 0.7234285473823547\n"
     ]
    }
   ],
   "source": [
    "score = model.evaluate(x_test, y_test)\n",
    "print('Test accuracy:', score[1])\n"
   ]
  },
  {
   "cell_type": "code",
   "execution_count": null,
   "id": "8482a788",
   "metadata": {
    "pycharm": {
     "name": "#%%\n"
    }
   },
   "outputs": [],
   "source": []
  },
  {
   "cell_type": "code",
   "execution_count": null,
   "id": "59bf1b6b",
   "metadata": {
    "pycharm": {
     "name": "#%%\n"
    }
   },
   "outputs": [],
   "source": []
  },
  {
   "cell_type": "code",
   "execution_count": 117,
   "id": "8c544ace",
   "metadata": {
    "pycharm": {
     "name": "#%%\n"
    }
   },
   "outputs": [
    {
     "data": {
      "text/plain": [
       "<keras.callbacks.History at 0x26d607748b0>"
      ]
     },
     "execution_count": 117,
     "metadata": {},
     "output_type": "execute_result"
    }
   ],
   "source": [
    "history"
   ]
  },
  {
   "cell_type": "code",
   "execution_count": 118,
   "id": "e14f8a99",
   "metadata": {
    "pycharm": {
     "name": "#%%\n"
    }
   },
   "outputs": [
    {
     "data": {
      "image/png": "[encoded data removed]",
      "text/plain": [
       "<Figure size 432x288 with 1 Axes>"
      ]
     },
     "metadata": {},
     "output_type": "display_data"
    },
    {
     "data": {
      "image/png": "[encoded data removed]",
      "text/plain": [
       "<Figure size 432x288 with 1 Axes>"
      ]
     },
     "metadata": {},
     "output_type": "display_data"
    }
   ],
   "source": [
    "loss = history.history['loss']\n",
    "val_loss = history.history['val_loss']\n",
    "epochs = range(1, len(loss) + 1)\n",
    "plt.plot(epochs, loss, 'y', label='Training loss')\n",
    "plt.plot(epochs, val_loss, 'r', label='Validation loss')\n",
    "plt.title('Training and validation loss')\n",
    "plt.xlabel('Epochs')\n",
    "plt.ylabel('Loss')\n",
    "plt.legend()\n",
    "plt.show()\n",
    "\n",
    "\n",
    "acc = history.history['acc']\n",
    "val_acc = history.history['val_acc']\n",
    "plt.plot(epochs, acc, 'y', label='Training acc')\n",
    "plt.plot(epochs, val_acc, 'r', label='Validation acc')\n",
    "plt.title('Training and validation accuracy')\n",
    "plt.xlabel('Epochs')\n",
    "plt.ylabel('Accuracy')\n",
    "plt.legend()\n",
    "plt.show()"
   ]
  },
  {
   "cell_type": "code",
   "execution_count": 119,
   "id": "6eb41037",
   "metadata": {},
   "outputs": [
    {
     "name": "stdout",
     "output_type": "stream",
     "text": [
      "28/28 [==============================] - 0s 16ms/step\n"
     ]
    }
   ],
   "source": [
    "\n",
    "y_pred = model.predict(x_test)\n",
    "y_pred_classes = np.argmax(y_pred, axis = 1) \n",
    "y_true = np.argmax(y_test, axis = 1) "
   ]
  },
  {
   "cell_type": "code",
   "execution_count": 120,
   "id": "7072c0ea",
   "metadata": {},
   "outputs": [],
   "source": [
    "cm = confusion_matrix(y_true, y_pred_classes)"
   ]
  },
  {
   "cell_type": "code",
   "execution_count": 121,
   "id": "a06cd209",
   "metadata": {},
   "outputs": [
    {
     "data": {
      "text/plain": [
       "<AxesSubplot:>"
      ]
     },
     "execution_count": 121,
     "metadata": {},
     "output_type": "execute_result"
    },
    {
     "data": {
      "image/png": "[encoded data removed]",
      "text/plain": [
       "<Figure size 432x432 with 2 Axes>"
      ]
     },
     "metadata": {},
     "output_type": "display_data"
    }
   ],
   "source": [
    "fig, ax = plt.subplots(figsize=(6,6))\n",
    "sns.heatmap(cm, annot=True, linewidths=.5, ax=ax)"
   ]
  },
  {
   "cell_type": "code",
   "execution_count": 122,
   "id": "b0783ee1",
   "metadata": {},
   "outputs": [
    {
     "data": {
      "text/plain": [
       "Text(0, 0.5, 'Fraction of incorrect predictions')"
      ]
     },
     "execution_count": 122,
     "metadata": {},
     "output_type": "execute_result"
    },
    {
     "data": {
      "image/png": "[encoded data removed]",
      "text/plain": [
       "<Figure size 432x288 with 1 Axes>"
      ]
     },
     "metadata": {},
     "output_type": "display_data"
    }
   ],
   "source": [
    "incorr_fraction = 1 - np.diag(cm) / np.sum(cm, axis=1)\n",
    "plt.bar(np.arange(7), incorr_fraction)\n",
    "plt.xlabel('True Label')\n",
    "plt.ylabel('Fraction of incorrect predictions')"
   ]
  },
  {
   "cell_type": "code",
   "execution_count": null,
   "id": "5d708b82",
   "metadata": {},
   "outputs": [],
   "source": []
  }
 ],
 "metadata": {
  "kernelspec": {
   "display_name": "Python tf_gpu",
   "language": "python",
   "name": "tf_gpu"
  },
  "language_info": {
   "codemirror_mode": {
    "name": "ipython",
    "version": 3
   },
   "file_extension": ".py",
   "mimetype": "text/x-python",
   "name": "python",
   "nbconvert_exporter": "python",
   "pygments_lexer": "ipython3",
   "version": "3.8.0"
  }
 },
 "nbformat": 4,
 "nbformat_minor": 5
}
